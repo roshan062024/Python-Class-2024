{
 "cells": [
  {
   "cell_type": "code",
   "execution_count": 1,
   "metadata": {},
   "outputs": [
    {
     "name": "stdout",
     "output_type": "stream",
     "text": [
      "-99999999.0\n"
     ]
    }
   ],
   "source": [
    "result = (22 + 2 / 2 * 4 // 4 - 89) + 67 - 10e7\n",
    "# result = (22 + 2 / 8 // 4 - 89) + 67 - 10e7\n",
    "print(result)\n",
    "\n"
   ]
  },
  {
   "cell_type": "code",
   "execution_count": 2,
   "metadata": {},
   "outputs": [
    {
     "name": "stdout",
     "output_type": "stream",
     "text": [
      "20.0\n"
     ]
    }
   ],
   "source": [
    "expression = 40 / 2\n",
    "print(expression)\n",
    "\n"
   ]
  },
  {
   "cell_type": "code",
   "execution_count": 3,
   "metadata": {},
   "outputs": [
    {
     "name": "stdout",
     "output_type": "stream",
     "text": [
      "10.0\n",
      "10.0\n",
      "10.0\n",
      "1.0\n",
      "1.0\n"
     ]
    }
   ],
   "source": [
    "expression = 40 / 2 / 2\n",
    "print(expression)\n",
    "\n",
    "expression = 120 / 3 / 4\n",
    "print(expression)\n",
    "\n",
    "expression = 120 / 4 / 3\n",
    "print(expression)\n",
    "\n",
    "expression = 120 / 3 / 4 / 10\n",
    "print(expression)\n",
    "\n",
    "expression = 40 / 10 // 3.0\n",
    "print(expression)\n"
   ]
  },
  {
   "cell_type": "code",
   "execution_count": 5,
   "metadata": {},
   "outputs": [
    {
     "name": "stdout",
     "output_type": "stream",
     "text": [
      "1.3333333333333333\n",
      "1.0\n",
      "False\n"
     ]
    }
   ],
   "source": [
    "\n",
    "expression = 40 // 10 / 3.0\n",
    "print(expression)\n",
    "\n",
    "expression = 40 / 10 // 3.0  # + 23e45 - 23 + 56 * 67\n",
    "print(expression)\n",
    "\n",
    "result = (True == False) in (False,) == False\n",
    "print(result)"
   ]
  }
 ],
 "metadata": {
  "kernelspec": {
   "display_name": "Python 3 (ipykernel)",
   "language": "python",
   "name": "python3"
  },
  "language_info": {
   "codemirror_mode": {
    "name": "ipython",
    "version": 3
   },
   "file_extension": ".py",
   "mimetype": "text/x-python",
   "name": "python",
   "nbconvert_exporter": "python",
   "pygments_lexer": "ipython3",
   "version": "3.10.13"
  }
 },
 "nbformat": 4,
 "nbformat_minor": 2
}
