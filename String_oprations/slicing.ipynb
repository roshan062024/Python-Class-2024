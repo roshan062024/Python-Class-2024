{
 "cells": [
  {
   "cell_type": "code",
   "execution_count": 1,
   "metadata": {},
   "outputs": [
    {
     "data": {
      "text/plain": [
       "'\\nPurpose: String slicing operations\\n'"
      ]
     },
     "execution_count": 1,
     "metadata": {},
     "output_type": "execute_result"
    }
   ],
   "source": [
    "\"\"\"\n",
    "Purpose: String slicing operations\n",
    "\"\"\""
   ]
  },
  {
   "cell_type": "code",
   "execution_count": 2,
   "metadata": {},
   "outputs": [],
   "source": [
    "language = \"Python string Programming\""
   ]
  },
  {
   "cell_type": "code",
   "execution_count": 3,
   "metadata": {},
   "outputs": [
    {
     "name": "stdout",
     "output_type": "stream",
     "text": [
      "language[0:7:1]: Python \n",
      "language[:7]  : Python \n"
     ]
    }
   ],
   "source": [
    "print(\"language[0:7:1]:\", language[0:7:1])\n",
    "print(\"language[:7]  :\", language[:7]) "
   ]
  },
  {
   "cell_type": "code",
   "execution_count": 4,
   "metadata": {},
   "outputs": [
    {
     "name": "stdout",
     "output_type": "stream",
     "text": [
      "language[0:]  : Python string Programming\n",
      "language[6:]  :  string Programming\n",
      "\n"
     ]
    }
   ],
   "source": [
    "print(\"language[0:]  :\", language[0:])  \n",
    "print(\"language[6:]  :\", language[6:])  "
   ]
  },
  {
   "cell_type": "code",
   "execution_count": 5,
   "metadata": {},
   "outputs": [
    {
     "name": "stdout",
     "output_type": "stream",
     "text": [
      "language[::1] : Python string Programming\n",
      "language[::3] : Ph rgrrmg\n",
      "\n"
     ]
    }
   ],
   "source": [
    "print(\"language[::1] :\", language[::1])  \n",
    "print(\"language[::3] :\", language[::3])  \n"
   ]
  },
  {
   "cell_type": "code",
   "execution_count": 6,
   "metadata": {},
   "outputs": [
    {
     "name": "stdout",
     "output_type": "stream",
     "text": [
      "language[::-1] : gnimmargorP gnirts nohtyP\n"
     ]
    }
   ],
   "source": [
    "print(\"language[::-1] :\", language[::-1])\n"
   ]
  },
  {
   "cell_type": "code",
   "execution_count": 7,
   "metadata": {},
   "outputs": [],
   "source": [
    "name = \"Varun Dhawan\"\n"
   ]
  },
  {
   "cell_type": "code",
   "execution_count": 8,
   "metadata": {},
   "outputs": [
    {
     "name": "stdout",
     "output_type": "stream",
     "text": [
      "name[::-1]       : nawahD nuraV\n"
     ]
    }
   ],
   "source": [
    "print(\"name[::-1]       :\", name[::-1])"
   ]
  }
 ],
 "metadata": {
  "kernelspec": {
   "display_name": "Python 3",
   "language": "python",
   "name": "python3"
  },
  "language_info": {
   "codemirror_mode": {
    "name": "ipython",
    "version": 3
   },
   "file_extension": ".py",
   "mimetype": "text/x-python",
   "name": "python",
   "nbconvert_exporter": "python",
   "pygments_lexer": "ipython3",
   "version": "3.10.13"
  }
 },
 "nbformat": 4,
 "nbformat_minor": 2
}
