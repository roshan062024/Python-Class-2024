{
 "cells": [
  {
   "cell_type": "code",
   "execution_count": 1,
   "id": "e0fd6687-3b68-4e13-b0cb-30f17858480f",
   "metadata": {},
   "outputs": [],
   "source": [
    "Principal_Amount = float(input(\"Enter the Principal Amount : \"))"
   ]
  },
  {
   "cell_type": "code",
   "execution_count": 2,
   "id": "85f65c39-e0ae-4168-9841-0696fbac9ee0",
   "metadata": {},
   "outputs": [],
   "source": [
    "Annual_Rate = float(input(\"Enter the Annual_rate \" ))/100"
   ]
  },
  {
   "cell_type": "code",
   "execution_count": 3,
   "id": "eef25b04-8109-4ee8-903d-07d27e09f40b",
   "metadata": {},
   "outputs": [],
   "source": [
    "Compound = float(input(\"Enter No of times Compounded per year :\"))"
   ]
  },
  {
   "cell_type": "code",
   "execution_count": 4,
   "id": "0cd7d772-c37c-4095-ae81-f82daa50858d",
   "metadata": {},
   "outputs": [],
   "source": [
    "Time = float(input(\"Enter Time : \"))"
   ]
  },
  {
   "cell_type": "code",
   "execution_count": 5,
   "id": "65d781b8-12d5-4850-82ca-de7f01b80d2a",
   "metadata": {},
   "outputs": [],
   "source": [
    "Accured_Amount = round(Principal_Amount * (1+(Annual_Rate/Compound))**(Compound*Time),2)"
   ]
  },
  {
   "cell_type": "code",
   "execution_count": 6,
   "id": "7fc1f76b-954a-4067-bb54-26ea1ba79409",
   "metadata": {},
   "outputs": [
    {
     "name": "stdout",
     "output_type": "stream",
     "text": [
      "Total Amount : 17313.29\n",
      "interest =  7313.290000000001\n"
     ]
    }
   ],
   "source": [
    "print(\"Total Amount :\",Accured_Amount)\n",
    "print(\"interest = \",Accured_Amount-Principal_Amount)"
   ]
  }
 ],
 "metadata": {
  "kernelspec": {
   "display_name": "Python 3 (ipykernel)",
   "language": "python",
   "name": "python3"
  },
  "language_info": {
   "codemirror_mode": {
    "name": "ipython",
    "version": 3
   },
   "file_extension": ".py",
   "mimetype": "text/x-python",
   "name": "python",
   "nbconvert_exporter": "python",
   "pygments_lexer": "ipython3",
   "version": "3.10.13"
  }
 },
 "nbformat": 4,
 "nbformat_minor": 5
}
